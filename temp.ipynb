{
 "cells": [
  {
   "cell_type": "code",
   "execution_count": 1,
   "metadata": {},
   "outputs": [],
   "source": [
    "import nfl_data_py as nfl\n",
    "import pandas as pd\n",
    "from NFL_Player import Player\n",
    "from Injury import *\n",
    "import requests\n",
    "from bs4 import BeautifulSoup\n",
    "from helperFunctions import *\n",
    "from googlesearch import search\n",
    "import re\n",
    "from datetime import datetime\n",
    "import concurrent.futures\n",
    "from tqdm import tqdm\n",
    "import time\n",
    "import injury_analysis"
   ]
  },
  {
   "cell_type": "code",
   "execution_count": 2,
   "metadata": {},
   "outputs": [],
   "source": [
    "# nfl.import_injuries([2020])[\"full_name\"]\n",
    "nflInjuries20 = nfl.import_injuries([2020])\n",
    "nflInjuries21 = nfl.import_injuries([2021])\n",
    "nflInjuries22 = nfl.import_injuries([2022])\n",
    "nflInjuries23 = nfl.import_injuries([2023])\n",
    "nflInjuries24 = nfl.import_injuries([2024])\n",
    "allNFLInjuries = pd.concat([nflInjuries20, nflInjuries21, nflInjuries22, nflInjuries23, nflInjuries24])"
   ]
  },
  {
   "cell_type": "code",
   "execution_count": 3,
   "metadata": {},
   "outputs": [],
   "source": [
    "historicalNFLInjuries = allNFLInjuries.loc[(allNFLInjuries[\"season\"] != 2024.0) | (allNFLInjuries[\"week\"] != 4.0)].copy()\n",
    "historicalNFLInjuries['InjuredInGame?'] = historicalNFLInjuries['practice_status'].apply(lambda x: x.strip() == \"\")\n"
   ]
  },
  {
   "cell_type": "code",
   "execution_count": null,
   "metadata": {},
   "outputs": [],
   "source": [
    "def filterHistoricalNFLInjuries(injuries_df, season=None, game_type=None, team=None, week=None, position=None, full_name=None,last_name=None, first_name=None, report_primary_injury=None, report_secondary_injury=None, report_status=None,\n",
    "                                practice_primary_injury=None, practice_secondary_injury=None, practice_status=None, injured_in_game = None):\n",
    "    injuries_df_copied = injuries_df.copy()\n",
    "    if season is not None:\n",
    "        injuries_df_copied = injuries_df_copied[injuries_df_copied[\"season\"] == season]\n",
    "    if game_type is not None:\n",
    "        injuries_df_copied = injuries_df_copied[injuries_df_copied[\"game_type\"] == game_type]\n",
    "    if team is not None:\n",
    "        injuries_df_copied = injuries_df_copied[injuries_df_copied[\"team\"] == team]\n",
    "    if week is not None:\n",
    "        injuries_df_copied = injuries_df_copied[injuries_df_copied[\"week\"] == week]\n",
    "    if position is not None:\n",
    "        injuries_df_copied = injuries_df_copied[injuries_df_copied[\"position\"] == position]\n",
    "    if full_name is not None:\n",
    "        injuries_df_copied = injuries_df_copied[injuries_df_copied[\"full_name\"] == full_name]\n",
    "    if first_name is not None:\n",
    "        injuries_df_copied = injuries_df_copied[injuries_df_copied[\"first_name\"] == first_name]\n",
    "    if last_name is not None:\n",
    "        injuries_df_copied = injuries_df_copied[injuries_df_copied[\"last_name\"] == last_name]\n",
    "    if report_primary_injury is not None:\n",
    "        injuries_df_copied = injuries_df_copied[injuries_df_copied[\"report_primary_injury\"] == report_primary_injury]\n",
    "    if report_secondary_injury is not None:\n",
    "        injuries_df_copied = injuries_df_copied[injuries_df_copied[\"report_secondary_injury\"] == report_secondary_injury]\n",
    "    if report_status is not None:\n",
    "        injuries_df_copied = injuries_df_copied[injuries_df_copied[\"report_status\"] == report_status]\n",
    "    if practice_primary_injury is not None:\n",
    "        injuries_df_copied = injuries_df_copied[injuries_df_copied[\"practice_primary_injury\"] == practice_primary_injury]\n",
    "    if practice_secondary_injury is not None:\n",
    "        injuries_df_copied = injuries_df_copied[injuries_df_copied[\"practice_secondary_injury\"] == practice_secondary_injury]\n",
    "    if practice_status is not None:\n",
    "        injuries_df_copied = injuries_df_copied[injuries_df_copied[\"practice_status\"] == practice_status]\n",
    "    if injured_in_game is not None:\n",
    "        injuries_df_copied = injuries_df_copied[injuries_df_copied[\"InjuredInGame?\"] == injured_in_game]\n",
    "    "
   ]
  },
  {
   "cell_type": "code",
   "execution_count": null,
   "metadata": {},
   "outputs": [],
   "source": [
    "# from helperFunctions import *\n",
    "x = filterHistoricalNFLInjuries(historicalNFLInjuries, postion=\"WR\")\n",
    "x.head()"
   ]
  },
  {
   "cell_type": "code",
   "execution_count": null,
   "metadata": {},
   "outputs": [],
   "source": [
    "historicalNFLInjuries\n",
    "# historicalNFLInjuries[historicalNFLInjuries[\"gsis_id\"] == \"00-0039151\"]"
   ]
  },
  {
   "cell_type": "code",
   "execution_count": null,
   "metadata": {},
   "outputs": [],
   "source": [
    "\n",
    "# {('Emmanuel Forbes', 'CB'): Player}}\n",
    "player_names = {}\n",
    "players = []\n",
    "for index, row in historicalNFLInjuries.iterrows():\n",
    "    keysList = list(player_names.keys())\n",
    "    temp_injury = GameInjuryReport(\n",
    "        row[\"season\"], \n",
    "        row[\"game_type\"], \n",
    "        row[\"team\"], \n",
    "        row[\"week\"], \n",
    "        row[\"report_primary_injury\"], \n",
    "        row[\"report_secondary_injury\"], \n",
    "        row[\"report_status\"], \n",
    "        row[\"practice_primary_injury\"], \n",
    "        row[\"practice_secondary_injury\"], \n",
    "        row[\"practice_status\"], \n",
    "        row[\"InjuredInGame?\"]\n",
    "    )\n",
    "\n",
    "    if row[\"full_name\"] not in keysList:\n",
    "        player_names[row[\"full_name\"]] = Player(row[\"first_name\"], row[\"last_name\"], row[\"position\"])\n",
    "    player_names.get(row[\"full_name\"]).add_injury(temp_injury)\n",
    "        \n",
    "for x in player_names.get(\"Emmanuel Forbes\").injuries:\n",
    "    print(x.display_report())"
   ]
  },
  {
   "cell_type": "code",
   "execution_count": null,
   "metadata": {},
   "outputs": [],
   "source": [
    "# DeAndre\tHopkins\t\n",
    "for x in player_names.get(\"DeAndre Hopkins\").injuries:\n",
    "    print(x.display_report())"
   ]
  },
  {
   "cell_type": "code",
   "execution_count": null,
   "metadata": {},
   "outputs": [],
   "source": [
    "for x in player_names.keys():\n",
    "    print(x)"
   ]
  },
  {
   "cell_type": "code",
   "execution_count": null,
   "metadata": {},
   "outputs": [],
   "source": [
    "from googlesearch import search\n",
    "import re\n",
    "import requests\n",
    "from bs4 import BeautifulSoup\n",
    "\n",
    "def get_draft_sharks_url(first_name, last_name):\n",
    "    full_name = first_name + \" \" + last_name\n",
    "    search_query = f\"{full_name} Draft Sharks\"\n",
    "    first_name_clean = ''.join(char for char in first_name if char.isalnum()).lower()\n",
    "    last_name_clean = ''.join(char for char in last_name if char.isalnum()).lower()\n",
    "    # Perform a Google search and get the URLs\n",
    "    for url in search(search_query, num_results=10):\n",
    "        if 'draftsharks.com' in url:\n",
    "            if first_name_clean+\"-\"+last_name_clean in url:\n",
    "                if 'injury-history' in url:\n",
    "                    return url\n",
    "                match = re.search(r'/(\\d+)$', url)\n",
    "                if match:\n",
    "                    return \"https://www.draftsharks.com/fantasy/injury-history/\"+first_name_clean+\"-\"+last_name_clean+\"/\"+(match.group(1))    \n",
    "    return None\n",
    "\n",
    "for x in player_names.keys():\n",
    "    url = get_draft_sharks_url(player_names[x].first_name, player_names[x].last_name)\n",
    "    full_name = player_names[x].first_name+\" \"+ player_names[x].last_name\n",
    "    if url:\n",
    "        print(f\"Draft Sharks URL for {full_name}: {url}\")\n",
    "    else:\n",
    "        print(f\"Invalid Draft Sharks found for {full_name}.\") \n",
    "\n",
    "\n",
    "# for index, row in historicalNFLInjuries.iterrows():\n",
    "#     url = get_draft_sharks_url(row[\"first_name\"], row[\"last_name\"])\n",
    "#     full_name = row[\"full_name\"]\n",
    "#     if url:\n",
    "#         try:\n",
    "#             response = requests.get(url)\n",
    "#             soup = BeautifulSoup(response.content, 'html.parser')\n",
    "#             table_rows = soup.find(\"div\",class_=\"injury-history-table-container\").find(\"tbody\").findAll(\"tr\")\n",
    "#             for row in table_rows:\n",
    "#                 row_data = row.findAll(\"td\")\n",
    "#                 injury_date = row_data[0] # Date\n",
    "#                 injury_league = row_data[1] # League\n",
    "#                 injury = row_data[2] # Injury\n",
    "#                 injury_details = row_data[3] # Description\n",
    "                \n",
    "#             print(f\"Draft Sharks URL for {full_name}: {url}\")\n",
    "#         except:\n",
    "#             print(f\"Invalid Draft Sharks found for {full_name}.\")\n",
    "\n",
    "#     else:\n",
    "#         print(f\"No Draft Sharks URL found for {full_name}.\")\n"
   ]
  },
  {
   "cell_type": "code",
   "execution_count": 4,
   "metadata": {},
   "outputs": [],
   "source": [
    "historicalNFLInjuries2 = historicalNFLInjuries.copy()\n",
    "historicalNFLInjuries2['combined_injury_description'] = (\n",
    "    historicalNFLInjuries2['season'].fillna('').astype(str) + \" \" +\n",
    "    historicalNFLInjuries2['game_type'].fillna('').astype(str) + \" \" +\n",
    "    historicalNFLInjuries2['team'].fillna('').astype(str) + \" \" +\n",
    "    historicalNFLInjuries2['week'].fillna('').astype(str) + \" \" +\n",
    "    historicalNFLInjuries2['position'].fillna('').astype(str) + \" \" +\n",
    "    historicalNFLInjuries2['full_name'].fillna('').astype(str) + \" \" +\n",
    "    historicalNFLInjuries2['first_name'].fillna('').astype(str) + \" \" +\n",
    "    historicalNFLInjuries2['last_name'].fillna('').astype(str) + \" \" +\n",
    "    historicalNFLInjuries2['report_primary_injury'].fillna('').astype(str) + \" \" +\n",
    "    historicalNFLInjuries2['report_secondary_injury'].fillna('').astype(str) + \" \" +\n",
    "    historicalNFLInjuries2['report_status'].fillna('').astype(str) + \" \" +\n",
    "    historicalNFLInjuries2['practice_primary_injury'].fillna('').astype(str) + \" \" +\n",
    "    historicalNFLInjuries2['practice_secondary_injury'].fillna('').astype(str) + \" \" +\n",
    "    historicalNFLInjuries2['practice_status'].fillna('').astype(str) + \" \" +\n",
    "    historicalNFLInjuries2['InjuredInGame?'].fillna('').astype(str)\n",
    ")\n"
   ]
  },
  {
   "cell_type": "code",
   "execution_count": 2,
   "metadata": {},
   "outputs": [
    {
     "ename": "",
     "evalue": "",
     "output_type": "error",
     "traceback": [
      "\u001b[1;31mThe Kernel crashed while executing code in the the current cell or a previous cell. Please review the code in the cell(s) to identify a possible cause of the failure. Click <a href='https://aka.ms/vscodeJupyterKernelCrash'>here</a> for more info. View Jupyter <a href='command:jupyter.viewOutput'>log</a> for further details."
     ]
    }
   ],
   "source": [
    "sentiment_analyzer = injury_analysis.pipeline(\n",
    "    model=\"lxyuan/distilbert-base-multilingual-cased-sentiments-student\", \n",
    ")"
   ]
  }
 ],
 "metadata": {
  "kernelspec": {
   "display_name": "Python 3",
   "language": "python",
   "name": "python3"
  },
  "language_info": {
   "codemirror_mode": {
    "name": "ipython",
    "version": 3
   },
   "file_extension": ".py",
   "mimetype": "text/x-python",
   "name": "python",
   "nbconvert_exporter": "python",
   "pygments_lexer": "ipython3",
   "version": "3.9.1"
  }
 },
 "nbformat": 4,
 "nbformat_minor": 2
}
